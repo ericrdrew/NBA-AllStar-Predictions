{
 "cells": [
  {
   "cell_type": "markdown",
   "id": "657925e2",
   "metadata": {},
   "source": [
    "# STEPs to follow\n",
    "### 1. Import necessary libraries\n",
    "### 2. Creating S3 bucket\n",
    "### 3. Mapping train and test data in S3\n",
    "### 4. Mapping path of models in S3"
   ]
  },
  {
   "cell_type": "code",
   "execution_count": 45,
   "id": "fa26e115",
   "metadata": {},
   "outputs": [],
   "source": [
    "import sagemaker\n",
    "import boto3\n",
    "from sagemaker.amazon.amazon_estimator import image_uris\n",
    "from sagemaker.session import s3_input, Session\n",
    "import pandas as pd\n",
    "import numpy as np\n",
    "import os"
   ]
  },
  {
   "cell_type": "code",
   "execution_count": 46,
   "id": "e9ea6bb4",
   "metadata": {},
   "outputs": [
    {
     "name": "stdout",
     "output_type": "stream",
     "text": [
      "us-east-1\n"
     ]
    }
   ],
   "source": [
    "bucket_name = 'nba-asg-pred-2023'\n",
    "my_region = boto3.session.Session().region_name #sets region of the instance\n",
    "print(my_region)"
   ]
  },
  {
   "cell_type": "code",
   "execution_count": 47,
   "id": "4b78f045",
   "metadata": {},
   "outputs": [
    {
     "name": "stdout",
     "output_type": "stream",
     "text": [
      "S3 bucket created successfully\n"
     ]
    }
   ],
   "source": [
    "s3 = boto3.resource('s3')\n",
    "try:\n",
    "    if my_region == 'us-east-1':\n",
    "        s3.create_bucket(Bucket=bucket_name)\n",
    "    print('S3 bucket created successfully')\n",
    "except Exception as e:\n",
    "    print('S3 error: ',e)"
   ]
  },
  {
   "cell_type": "code",
   "execution_count": 48,
   "id": "9f5ee8c6",
   "metadata": {},
   "outputs": [
    {
     "name": "stdout",
     "output_type": "stream",
     "text": [
      "s3://nba-asg-pred-2023/xgboost-as-a-built-in-algo/output\n"
     ]
    }
   ],
   "source": [
    "# set output path where trained model will be saved\n",
    "prefix = 'xgboost-as-a-built-in-algo'\n",
    "output_path = 's3://{}/{}/output'.format(bucket_name, prefix)\n",
    "print(output_path)"
   ]
  },
  {
   "cell_type": "code",
   "execution_count": 64,
   "id": "ce8c9d9d",
   "metadata": {},
   "outputs": [
    {
     "name": "stdout",
     "output_type": "stream",
     "text": [
      "Success: Data loaded into dataframe.\n"
     ]
    }
   ],
   "source": [
    "#Reading in train df\n",
    "try:\n",
    "    model_data = pd.read_csv('./cleanedData.csv')\n",
    "    print('Success: Data loaded into dataframe.')\n",
    "except Exception as e:\n",
    "    print('Data load error: ',e)"
   ]
  },
  {
   "cell_type": "code",
   "execution_count": 65,
   "id": "6e0fbc68",
   "metadata": {},
   "outputs": [],
   "source": [
    "#train/test split\n",
    "train_data, test_data = np.split(model_data.sample(frac=1, random_state=1729), [int(.7 * len(model_data))])"
   ]
  },
  {
   "cell_type": "markdown",
   "id": "75b85ff0",
   "metadata": {},
   "source": [
    "# Putting data into bucket"
   ]
  },
  {
   "cell_type": "code",
   "execution_count": 66,
   "id": "72c42b0f",
   "metadata": {},
   "outputs": [
    {
     "name": "stderr",
     "output_type": "stream",
     "text": [
      "INFO:botocore.credentials:Found credentials from IAM Role: BaseNotebookInstanceEc2InstanceRole\n"
     ]
    }
   ],
   "source": [
    "### Saving train dataset into bucket\n",
    "pd.concat([train_data['remainder__AllStar'], train_data.drop(['remainder__AllStar'],axis=1)],\n",
    "                                                                                    axis=1).to_csv('train.csv',\n",
    "                                                                                                  index=False)\n",
    "\n",
    "boto3.Session().resource('s3').Bucket(bucket_name).Object(os.path.join(prefix, 'train/train.csv')).upload_file('train.csv')\n",
    "s3_input_train = sagemaker.TrainingInput(s3_data='s3://{}/{}/train'.format(bucket_name, prefix), content_type='csv')"
   ]
  },
  {
   "cell_type": "code",
   "execution_count": 67,
   "id": "f42ef6ec",
   "metadata": {},
   "outputs": [
    {
     "name": "stderr",
     "output_type": "stream",
     "text": [
      "INFO:botocore.credentials:Found credentials from IAM Role: BaseNotebookInstanceEc2InstanceRole\n"
     ]
    }
   ],
   "source": [
    "### Saving train dataset into bucket\n",
    "pd.concat([test_data['remainder__AllStar'], test_data.drop(['remainder__AllStar'],axis=1)],\n",
    "                                                                                    axis=1).to_csv('test.csv',\n",
    "                                                                                                  index=False)\n",
    "\n",
    "boto3.Session().resource('s3').Bucket(bucket_name).Object(os.path.join(prefix, 'test/test.csv')).upload_file('test.csv')\n",
    "s3_input_test = sagemaker.TrainingInput(s3_data='s3://{}/{}/test'.format(bucket_name, prefix), content_type='csv')"
   ]
  },
  {
   "cell_type": "markdown",
   "id": "8bcf0b74",
   "metadata": {},
   "source": [
    "# BUILDING XGBOOST model"
   ]
  },
  {
   "cell_type": "code",
   "execution_count": 68,
   "id": "175ce82b",
   "metadata": {},
   "outputs": [
    {
     "name": "stderr",
     "output_type": "stream",
     "text": [
      "INFO:sagemaker.image_uris:Defaulting to only available Python version: py3\n",
      "INFO:sagemaker.image_uris:Defaulting to only supported image scope: cpu.\n"
     ]
    }
   ],
   "source": [
    "# this line automatically looks for the XGBoost image URI and builds an XGBoost container.\n",
    "container = image_uris.retrieve(region=boto3.Session().region_name,\n",
    "                         framework='xgboost', version='1.0-1')"
   ]
  },
  {
   "cell_type": "code",
   "execution_count": 69,
   "id": "38db2b2a",
   "metadata": {},
   "outputs": [],
   "source": [
    "hyperparameters = {\n",
    "    'gamma':'0',\n",
    "    'max_depth':'20',\n",
    "    'objective':'binary:logistic',\n",
    "    'num_round':'10'\n",
    "}"
   ]
  },
  {
   "cell_type": "code",
   "execution_count": 70,
   "id": "72521a2e",
   "metadata": {},
   "outputs": [],
   "source": [
    "#construct sagemaker estimator calling xgboost-container\n",
    "estimator = sagemaker.estimator.Estimator(image_uri=container,\n",
    "                                         hyperparameters=hyperparameters,\n",
    "                                         role=sagemaker.get_execution_role(),\n",
    "                                         instance_count=1,\n",
    "                                         instance_type='ml.m5.large',\n",
    "                                         volume_size=5, #5GB,\n",
    "                                         output_path=output_path,\n",
    "                                         use_spot_instances=True,\n",
    "                                         max_run=300,\n",
    "                                         max_wait=600)"
   ]
  },
  {
   "cell_type": "code",
   "execution_count": 72,
   "id": "5b2f04b4",
   "metadata": {},
   "outputs": [
    {
     "name": "stderr",
     "output_type": "stream",
     "text": [
      "INFO:sagemaker:Creating training-job with name: sagemaker-xgboost-2022-12-28-02-20-21-608\n"
     ]
    },
    {
     "name": "stdout",
     "output_type": "stream",
     "text": [
      "2022-12-28 02:20:21 Starting - Starting the training job...\n",
      "2022-12-28 02:20:37 Starting - Preparing the instances for training......\n",
      "2022-12-28 02:21:47 Downloading - Downloading input data...\n",
      "2022-12-28 02:22:12 Training - Downloading the training image...\n",
      "2022-12-28 02:22:48 Training - Training image download completed. Training in progress..\u001b[34m[2022-12-28 02:22:53.470 ip-10-0-169-24.ec2.internal:8 INFO utils.py:27] RULE_JOB_STOP_SIGNAL_FILENAME: None\u001b[0m\n",
      "\u001b[34mINFO:sagemaker-containers:Imported framework sagemaker_xgboost_container.training\u001b[0m\n",
      "\u001b[34mINFO:sagemaker-containers:Failed to parse hyperparameter objective value binary:logistic to Json.\u001b[0m\n",
      "\u001b[34mReturning the value itself\u001b[0m\n",
      "\u001b[34mINFO:sagemaker-containers:No GPUs detected (normal if no gpus installed)\u001b[0m\n",
      "\u001b[34mINFO:sagemaker_xgboost_container.training:Running XGBoost Sagemaker in algorithm mode\u001b[0m\n",
      "\u001b[34mINFO:root:Determined delimiter of CSV input is ','\u001b[0m\n",
      "\u001b[34mINFO:root:Determined delimiter of CSV input is ','\u001b[0m\n",
      "\u001b[34mINFO:root:Determined delimiter of CSV input is ','\u001b[0m\n",
      "\u001b[34mINFO:root:Determined delimiter of CSV input is ','\u001b[0m\n",
      "\u001b[34mINFO:root:Single node training.\u001b[0m\n",
      "\u001b[34m[02:22:53] 4240x28 matrix with 118720 entries loaded from /opt/ml/input/data/train?format=csv&label_column=0&delimiter=,\u001b[0m\n",
      "\u001b[34m[02:22:53] 1819x28 matrix with 50932 entries loaded from /opt/ml/input/data/validation?format=csv&label_column=0&delimiter=,\u001b[0m\n",
      "\u001b[34m[2022-12-28 02:22:53.578 ip-10-0-169-24.ec2.internal:8 INFO json_config.py:91] Creating hook from json_config at /opt/ml/input/config/debughookconfig.json.\u001b[0m\n",
      "\u001b[34m[2022-12-28 02:22:53.579 ip-10-0-169-24.ec2.internal:8 INFO hook.py:201] tensorboard_dir has not been set for the hook. SMDebug will not be exporting tensorboard summaries.\u001b[0m\n",
      "\u001b[34m[2022-12-28 02:22:53.579 ip-10-0-169-24.ec2.internal:8 INFO profiler_config_parser.py:102] User has disabled profiler.\u001b[0m\n",
      "\u001b[34m[2022-12-28 02:22:53.580 ip-10-0-169-24.ec2.internal:8 INFO hook.py:255] Saving to /opt/ml/output/tensors\u001b[0m\n",
      "\u001b[34m[2022-12-28 02:22:53.580 ip-10-0-169-24.ec2.internal:8 INFO state_store.py:77] The checkpoint config file /opt/ml/input/config/checkpointconfig.json does not exist.\u001b[0m\n",
      "\u001b[34mINFO:root:Debug hook created from config\u001b[0m\n",
      "\u001b[34mINFO:root:Train matrix has 4240 rows\u001b[0m\n",
      "\u001b[34mINFO:root:Validation matrix has 1819 rows\u001b[0m\n",
      "\u001b[34m[02:22:53] WARNING: /workspace/src/learner.cc:328: \u001b[0m\n",
      "\u001b[34mParameters: { num_round } might not be used.\n",
      "  This may not be accurate due to some parameters are only used in language bindings but\n",
      "  passed down to XGBoost core.  Or some parameters are not used but slip through this\n",
      "  verification. Please open an issue if you find above cases.\u001b[0m\n",
      "\u001b[34m[0]#011train-error:0.02311#011validation-error:0.06322\u001b[0m\n",
      "\u001b[34m[2022-12-28 02:22:53.609 ip-10-0-169-24.ec2.internal:8 INFO hook.py:423] Monitoring the collections: metrics\u001b[0m\n",
      "\u001b[34m[2022-12-28 02:22:53.611 ip-10-0-169-24.ec2.internal:8 INFO hook.py:486] Hook is writing from the hook with pid: 8\u001b[0m\n",
      "\u001b[34m[1]#011train-error:0.01274#011validation-error:0.05003\u001b[0m\n",
      "\u001b[34m[2]#011train-error:0.00896#011validation-error:0.05388\u001b[0m\n",
      "\u001b[34m[3]#011train-error:0.00731#011validation-error:0.05113\u001b[0m\n",
      "\u001b[34m[4]#011train-error:0.00590#011validation-error:0.04948\u001b[0m\n",
      "\u001b[34m[5]#011train-error:0.00519#011validation-error:0.05113\u001b[0m\n",
      "\u001b[34m[6]#011train-error:0.00377#011validation-error:0.04948\u001b[0m\n",
      "\u001b[34m[7]#011train-error:0.00283#011validation-error:0.05223\u001b[0m\n",
      "\u001b[34m[8]#011train-error:0.00212#011validation-error:0.05058\u001b[0m\n",
      "\u001b[34m[9]#011train-error:0.00142#011validation-error:0.05168\u001b[0m\n",
      "\n",
      "2022-12-28 02:23:14 Uploading - Uploading generated training model\n",
      "2022-12-28 02:23:14 Completed - Training job completed\n",
      "Training seconds: 87\n",
      "Billable seconds: 36\n",
      "Managed Spot Training savings: 58.6%\n"
     ]
    }
   ],
   "source": [
    "#run the estimator\n",
    "estimator.fit({'train': s3_input_train, 'validation': s3_input_test})"
   ]
  },
  {
   "cell_type": "markdown",
   "id": "6bbd0b51",
   "metadata": {},
   "source": [
    "# Deploy Model"
   ]
  },
  {
   "cell_type": "code",
   "execution_count": 73,
   "id": "0f1cf99c",
   "metadata": {},
   "outputs": [
    {
     "name": "stderr",
     "output_type": "stream",
     "text": [
      "INFO:sagemaker:Creating model with name: sagemaker-xgboost-2022-12-28-02-25-16-836\n",
      "INFO:sagemaker:Creating endpoint-config with name sagemaker-xgboost-2022-12-28-02-25-16-836\n",
      "INFO:sagemaker:Creating endpoint with name sagemaker-xgboost-2022-12-28-02-25-16-836\n"
     ]
    },
    {
     "name": "stdout",
     "output_type": "stream",
     "text": [
      "-------!"
     ]
    }
   ],
   "source": [
    "xgb_predictor = estimator.deploy(initial_instance_count=1, instance_type='ml.m4.xlarge')"
   ]
  },
  {
   "cell_type": "code",
   "execution_count": 75,
   "id": "2b2da39e",
   "metadata": {},
   "outputs": [
    {
     "name": "stderr",
     "output_type": "stream",
     "text": [
      "WARNING:sagemaker.deprecations:The csv_serializer has been renamed in sagemaker>=2.\n",
      "See: https://sagemaker.readthedocs.io/en/stable/v2.html for details.\n"
     ]
    },
    {
     "name": "stdout",
     "output_type": "stream",
     "text": [
      "[0.02271173 0.03012614 0.03599307 ... 0.02271173 0.28918964 0.03274313]\n"
     ]
    }
   ],
   "source": [
    "from sagemaker.predictor import csv_serializer\n",
    "test_data_array = test_data.drop(['remainder__AllStar'], axis=1).values\n",
    "xgb_predictor.serializer = csv_serializer\n",
    "predictions = xgb_predictor.predict(test_data_array).decode('utf-8')\n",
    "predictions_array = np.fromstring(predictions[1:], sep=',')\n",
    "print(predictions_array)"
   ]
  },
  {
   "cell_type": "markdown",
   "id": "52311708",
   "metadata": {},
   "source": [
    "# Delete the endpoints"
   ]
  },
  {
   "cell_type": "code",
   "execution_count": 76,
   "id": "f514452e",
   "metadata": {},
   "outputs": [
    {
     "name": "stderr",
     "output_type": "stream",
     "text": [
      "WARNING:sagemaker.deprecations:The endpoint attribute has been renamed in sagemaker>=2.\n",
      "See: https://sagemaker.readthedocs.io/en/stable/v2.html for details.\n",
      "INFO:sagemaker:Deleting endpoint with name: sagemaker-xgboost-2022-12-28-02-25-16-836\n"
     ]
    },
    {
     "data": {
      "text/plain": [
       "[{'ResponseMetadata': {'RequestId': '504K11VN0W8TMBKC',\n",
       "   'HostId': 'llWpKPBSL9iHEe4Vc6gAqhaXiXjPdVl8emNLhRZzKgvPyWwie9f1ed2MRkL5X9KXykDbcrgS83Q=',\n",
       "   'HTTPStatusCode': 200,\n",
       "   'HTTPHeaders': {'x-amz-id-2': 'llWpKPBSL9iHEe4Vc6gAqhaXiXjPdVl8emNLhRZzKgvPyWwie9f1ed2MRkL5X9KXykDbcrgS83Q=',\n",
       "    'x-amz-request-id': '504K11VN0W8TMBKC',\n",
       "    'date': 'Wed, 28 Dec 2022 02:34:42 GMT',\n",
       "    'content-type': 'application/xml',\n",
       "    'transfer-encoding': 'chunked',\n",
       "    'server': 'AmazonS3',\n",
       "    'connection': 'close'},\n",
       "   'RetryAttempts': 0},\n",
       "  'Deleted': [{'Key': 'xgboost-as-a-built-in-algo/output/sagemaker-xgboost-2022-12-28-02-20-21-608/profiler-output/system/incremental/2022122802/1672194120.algo-1.json'},\n",
       "   {'Key': 'xgboost-as-a-built-in-algo/test/test.csv'},\n",
       "   {'Key': 'xgboost-as-a-built-in-algo/output/sagemaker-xgboost-2022-12-28-02-20-21-608/debug-output/index/000000000/000000000000_worker_0.json'},\n",
       "   {'Key': 'xgboost-as-a-built-in-algo/output/sagemaker-xgboost-2022-12-28-02-20-21-608/debug-output/training_job_end.ts'},\n",
       "   {'Key': 'xgboost-as-a-built-in-algo/output/sagemaker-xgboost-2022-12-28-02-20-21-608/profiler-output/framework/training_job_end.ts'},\n",
       "   {'Key': 'xgboost-as-a-built-in-algo/output/sagemaker-xgboost-2022-12-28-02-20-21-608/debug-output/claim.smd'},\n",
       "   {'Key': 'xgboost-as-a-built-in-algo/output/sagemaker-xgboost-2022-12-28-02-20-21-608/profiler-output/system/incremental/2022122802/1672194180.algo-1.json'},\n",
       "   {'Key': 'xgboost-as-a-built-in-algo/output/sagemaker-xgboost-2022-12-28-02-20-21-608/profiler-output/system/training_job_end.ts'},\n",
       "   {'Key': 'xgboost-as-a-built-in-algo/output/sagemaker-xgboost-2022-12-28-02-20-21-608/debug-output/collections/000000000/worker_0_collections.json'},\n",
       "   {'Key': 'xgboost-as-a-built-in-algo/output/sagemaker-xgboost-2022-12-28-02-20-21-608/debug-output/events/000000000000/000000000000_worker_0.tfevents'},\n",
       "   {'Key': 'xgboost-as-a-built-in-algo/train/train.csv'},\n",
       "   {'Key': 'xgboost-as-a-built-in-algo/output/sagemaker-xgboost-2022-12-28-02-20-21-608/profiler-output/system/incremental/2022122802/1672194060.algo-1.json'},\n",
       "   {'Key': 'xgboost-as-a-built-in-algo/output/sagemaker-xgboost-2022-12-28-02-20-21-608/output/model.tar.gz'}]}]"
      ]
     },
     "execution_count": 76,
     "metadata": {},
     "output_type": "execute_result"
    }
   ],
   "source": [
    "sagemaker.Session().delete_endpoint(xgb_predictor.endpoint)\n",
    "bucket_to_delete = boto3.resource('s3').Bucket(bucket_name)\n",
    "bucket_to_delete.objects.all().delete()"
   ]
  }
 ],
 "metadata": {
  "kernelspec": {
   "display_name": "conda_python3",
   "language": "python",
   "name": "conda_python3"
  },
  "language_info": {
   "codemirror_mode": {
    "name": "ipython",
    "version": 3
   },
   "file_extension": ".py",
   "mimetype": "text/x-python",
   "name": "python",
   "nbconvert_exporter": "python",
   "pygments_lexer": "ipython3",
   "version": "3.8.12"
  }
 },
 "nbformat": 4,
 "nbformat_minor": 5
}
